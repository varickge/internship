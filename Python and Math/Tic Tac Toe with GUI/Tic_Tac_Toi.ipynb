{
 "cells": [
  {
   "cell_type": "code",
   "execution_count": 1,
   "id": "94ee8168",
   "metadata": {},
   "outputs": [],
   "source": [
    "from main import *"
   ]
  },
  {
   "cell_type": "code",
   "execution_count": 2,
   "id": "36f63f7a",
   "metadata": {},
   "outputs": [],
   "source": [
    "my_menu=Menu(root)\n",
    "root.config(menu=my_menu)\n",
    "\n",
    "# Create Options Menu\n",
    "options_menu=Menu(my_menu,tearoff=False)\n",
    "my_menu.add_cascade(label=\"Options\",menu=options_menu)\n",
    "options_menu.add_command(label=\"Reset Game\", command=reset)\n",
    "\n",
    "reset()\n",
    "mainloop()\n"
   ]
  },
  {
   "cell_type": "code",
   "execution_count": null,
   "id": "5e4e16e5",
   "metadata": {},
   "outputs": [],
   "source": []
  }
 ],
 "metadata": {
  "kernelspec": {
   "display_name": "Python 3 (ipykernel)",
   "language": "python",
   "name": "python3"
  },
  "language_info": {
   "codemirror_mode": {
    "name": "ipython",
    "version": 3
   },
   "file_extension": ".py",
   "mimetype": "text/x-python",
   "name": "python",
   "nbconvert_exporter": "python",
   "pygments_lexer": "ipython3",
   "version": "3.9.7"
  }
 },
 "nbformat": 4,
 "nbformat_minor": 5
}
